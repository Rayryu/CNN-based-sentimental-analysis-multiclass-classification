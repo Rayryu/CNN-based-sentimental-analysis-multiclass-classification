{
  "nbformat": 4,
  "nbformat_minor": 0,
  "metadata": {
    "colab": {
      "name": "CNN-based sentimental analysis multiclass classification.ipynb",
      "provenance": [],
      "collapsed_sections": [
        "nmjwt9hQ4tgr",
        "Pcppta2xVr5D",
        "WAc4gXwA91us"
      ],
      "machine_shape": "hm"
    },
    "kernelspec": {
      "name": "python3",
      "display_name": "Python 3"
    },
    "accelerator": "GPU"
  },
  "cells": [
    {
      "cell_type": "markdown",
      "metadata": {
        "id": "b2ef3yvr1egO",
        "colab_type": "text"
      },
      "source": [
        "# Setting up environnement and imports"
      ]
    },
    {
      "cell_type": "code",
      "metadata": {
        "id": "lqCx3I0vzpsO",
        "colab_type": "code",
        "colab": {}
      },
      "source": [
        "import random\n",
        "import numpy as np\n",
        "import math\n",
        "import re\n",
        "import pandas as pd\n",
        "import matplotlib.pyplot as plt\n",
        "from bs4 import BeautifulSoup\n",
        "import pickle\n",
        "from sklearn.model_selection import train_test_split\n",
        "from google.colab import drive\n",
        "try:\n",
        "    %tensorflow_version 2.x\n",
        "except Exception:\n",
        "    pass\n",
        "import tensorflow as tf\n",
        "from tensorflow.keras import layers\n",
        "import tensorflow_datasets as tfds"
      ],
      "execution_count": 0,
      "outputs": []
    },
    {
      "cell_type": "code",
      "metadata": {
        "id": "07zXNvys20qN",
        "colab_type": "code",
        "colab": {}
      },
      "source": [
        "#Setting up a seed for reproducibility\n",
        "seed = random.seed(42)"
      ],
      "execution_count": 0,
      "outputs": []
    },
    {
      "cell_type": "code",
      "metadata": {
        "id": "b0P_sw9J3ZG6",
        "colab_type": "code",
        "outputId": "7924db14-825b-482d-83cd-381e27a9e141",
        "colab": {
          "base_uri": "https://localhost:8080/",
          "height": 121
        }
      },
      "source": [
        "drive.mount(\"/content/drive\")"
      ],
      "execution_count": 4,
      "outputs": [
        {
          "output_type": "stream",
          "text": [
            "Go to this URL in a browser: https://accounts.google.com/o/oauth2/auth?client_id=947318989803-6bn6qk8qdgf4n4g3pfee6491hc0brc4i.apps.googleusercontent.com&redirect_uri=urn%3aietf%3awg%3aoauth%3a2.0%3aoob&response_type=code&scope=email%20https%3a%2f%2fwww.googleapis.com%2fauth%2fdocs.test%20https%3a%2f%2fwww.googleapis.com%2fauth%2fdrive%20https%3a%2f%2fwww.googleapis.com%2fauth%2fdrive.photos.readonly%20https%3a%2f%2fwww.googleapis.com%2fauth%2fpeopleapi.readonly\n",
            "\n",
            "Enter your authorization code:\n",
            "··········\n",
            "Mounted at /content/drive\n"
          ],
          "name": "stdout"
        }
      ]
    },
    {
      "cell_type": "markdown",
      "metadata": {
        "id": "v6195HRP30ko",
        "colab_type": "text"
      },
      "source": [
        "# Data preprocessing"
      ]
    },
    {
      "cell_type": "markdown",
      "metadata": {
        "id": "nmjwt9hQ4tgr",
        "colab_type": "text"
      },
      "source": [
        "## Loading data"
      ]
    },
    {
      "cell_type": "code",
      "metadata": {
        "id": "IQA1cd8uskxA",
        "colab_type": "code",
        "colab": {}
      },
      "source": [
        "PATH = \"/content/drive/My Drive/CNN for NLP datasets/\""
      ],
      "execution_count": 0,
      "outputs": []
    },
    {
      "cell_type": "code",
      "metadata": {
        "id": "T_pdSy7H3lwG",
        "colab_type": "code",
        "colab": {}
      },
      "source": [
        "train_data = pd.read_csv(PATH + \"twitter_train.csv\", header=None, encoding=\"latin1\")\n",
        "test_data = pd.read_csv(PATH + \"twitter_test.csv\", header=None, encoding=\"latin1\")"
      ],
      "execution_count": 0,
      "outputs": []
    },
    {
      "cell_type": "code",
      "metadata": {
        "id": "OTQGg8O-BPzw",
        "colab_type": "code",
        "outputId": "a6a1fa57-5785-4b4a-906c-7eb08ec05f95",
        "colab": {
          "base_uri": "https://localhost:8080/",
          "height": 195
        }
      },
      "source": [
        "train_data.head()"
      ],
      "execution_count": 0,
      "outputs": [
        {
          "output_type": "execute_result",
          "data": {
            "text/html": [
              "<div>\n",
              "<style scoped>\n",
              "    .dataframe tbody tr th:only-of-type {\n",
              "        vertical-align: middle;\n",
              "    }\n",
              "\n",
              "    .dataframe tbody tr th {\n",
              "        vertical-align: top;\n",
              "    }\n",
              "\n",
              "    .dataframe thead th {\n",
              "        text-align: right;\n",
              "    }\n",
              "</style>\n",
              "<table border=\"1\" class=\"dataframe\">\n",
              "  <thead>\n",
              "    <tr style=\"text-align: right;\">\n",
              "      <th></th>\n",
              "      <th>0</th>\n",
              "      <th>1</th>\n",
              "      <th>2</th>\n",
              "      <th>3</th>\n",
              "      <th>4</th>\n",
              "      <th>5</th>\n",
              "    </tr>\n",
              "  </thead>\n",
              "  <tbody>\n",
              "    <tr>\n",
              "      <th>0</th>\n",
              "      <td>0</td>\n",
              "      <td>1467810369</td>\n",
              "      <td>Mon Apr 06 22:19:45 PDT 2009</td>\n",
              "      <td>NO_QUERY</td>\n",
              "      <td>_TheSpecialOne_</td>\n",
              "      <td>@switchfoot http://twitpic.com/2y1zl - Awww, t...</td>\n",
              "    </tr>\n",
              "    <tr>\n",
              "      <th>1</th>\n",
              "      <td>0</td>\n",
              "      <td>1467810672</td>\n",
              "      <td>Mon Apr 06 22:19:49 PDT 2009</td>\n",
              "      <td>NO_QUERY</td>\n",
              "      <td>scotthamilton</td>\n",
              "      <td>is upset that he can't update his Facebook by ...</td>\n",
              "    </tr>\n",
              "    <tr>\n",
              "      <th>2</th>\n",
              "      <td>0</td>\n",
              "      <td>1467810917</td>\n",
              "      <td>Mon Apr 06 22:19:53 PDT 2009</td>\n",
              "      <td>NO_QUERY</td>\n",
              "      <td>mattycus</td>\n",
              "      <td>@Kenichan I dived many times for the ball. Man...</td>\n",
              "    </tr>\n",
              "    <tr>\n",
              "      <th>3</th>\n",
              "      <td>0</td>\n",
              "      <td>1467811184</td>\n",
              "      <td>Mon Apr 06 22:19:57 PDT 2009</td>\n",
              "      <td>NO_QUERY</td>\n",
              "      <td>ElleCTF</td>\n",
              "      <td>my whole body feels itchy and like its on fire</td>\n",
              "    </tr>\n",
              "    <tr>\n",
              "      <th>4</th>\n",
              "      <td>0</td>\n",
              "      <td>1467811193</td>\n",
              "      <td>Mon Apr 06 22:19:57 PDT 2009</td>\n",
              "      <td>NO_QUERY</td>\n",
              "      <td>Karoli</td>\n",
              "      <td>@nationwideclass no, it's not behaving at all....</td>\n",
              "    </tr>\n",
              "  </tbody>\n",
              "</table>\n",
              "</div>"
            ],
            "text/plain": [
              "   0  ...                                                  5\n",
              "0  0  ...  @switchfoot http://twitpic.com/2y1zl - Awww, t...\n",
              "1  0  ...  is upset that he can't update his Facebook by ...\n",
              "2  0  ...  @Kenichan I dived many times for the ball. Man...\n",
              "3  0  ...    my whole body feels itchy and like its on fire \n",
              "4  0  ...  @nationwideclass no, it's not behaving at all....\n",
              "\n",
              "[5 rows x 6 columns]"
            ]
          },
          "metadata": {
            "tags": []
          },
          "execution_count": 66
        }
      ]
    },
    {
      "cell_type": "markdown",
      "metadata": {
        "id": "Pcppta2xVr5D",
        "colab_type": "text"
      },
      "source": [
        "##Simple data exploration"
      ]
    },
    {
      "cell_type": "code",
      "metadata": {
        "id": "gkdbDDCU4VC1",
        "colab_type": "code",
        "outputId": "ab7b4336-25fd-4a49-a571-c533633125d8",
        "colab": {
          "base_uri": "https://localhost:8080/",
          "height": 195
        }
      },
      "source": [
        "test_data.head()"
      ],
      "execution_count": 0,
      "outputs": [
        {
          "output_type": "execute_result",
          "data": {
            "text/html": [
              "<div>\n",
              "<style scoped>\n",
              "    .dataframe tbody tr th:only-of-type {\n",
              "        vertical-align: middle;\n",
              "    }\n",
              "\n",
              "    .dataframe tbody tr th {\n",
              "        vertical-align: top;\n",
              "    }\n",
              "\n",
              "    .dataframe thead th {\n",
              "        text-align: right;\n",
              "    }\n",
              "</style>\n",
              "<table border=\"1\" class=\"dataframe\">\n",
              "  <thead>\n",
              "    <tr style=\"text-align: right;\">\n",
              "      <th></th>\n",
              "      <th>0</th>\n",
              "      <th>1</th>\n",
              "      <th>2</th>\n",
              "      <th>3</th>\n",
              "      <th>4</th>\n",
              "      <th>5</th>\n",
              "    </tr>\n",
              "  </thead>\n",
              "  <tbody>\n",
              "    <tr>\n",
              "      <th>0</th>\n",
              "      <td>4</td>\n",
              "      <td>3</td>\n",
              "      <td>Mon May 11 03:17:40 UTC 2009</td>\n",
              "      <td>kindle2</td>\n",
              "      <td>tpryan</td>\n",
              "      <td>@stellargirl I loooooooovvvvvveee my Kindle2. ...</td>\n",
              "    </tr>\n",
              "    <tr>\n",
              "      <th>1</th>\n",
              "      <td>4</td>\n",
              "      <td>4</td>\n",
              "      <td>Mon May 11 03:18:03 UTC 2009</td>\n",
              "      <td>kindle2</td>\n",
              "      <td>vcu451</td>\n",
              "      <td>Reading my kindle2...  Love it... Lee childs i...</td>\n",
              "    </tr>\n",
              "    <tr>\n",
              "      <th>2</th>\n",
              "      <td>4</td>\n",
              "      <td>5</td>\n",
              "      <td>Mon May 11 03:18:54 UTC 2009</td>\n",
              "      <td>kindle2</td>\n",
              "      <td>chadfu</td>\n",
              "      <td>Ok, first assesment of the #kindle2 ...it fuck...</td>\n",
              "    </tr>\n",
              "    <tr>\n",
              "      <th>3</th>\n",
              "      <td>4</td>\n",
              "      <td>6</td>\n",
              "      <td>Mon May 11 03:19:04 UTC 2009</td>\n",
              "      <td>kindle2</td>\n",
              "      <td>SIX15</td>\n",
              "      <td>@kenburbary You'll love your Kindle2. I've had...</td>\n",
              "    </tr>\n",
              "    <tr>\n",
              "      <th>4</th>\n",
              "      <td>4</td>\n",
              "      <td>7</td>\n",
              "      <td>Mon May 11 03:21:41 UTC 2009</td>\n",
              "      <td>kindle2</td>\n",
              "      <td>yamarama</td>\n",
              "      <td>@mikefish  Fair enough. But i have the Kindle2...</td>\n",
              "    </tr>\n",
              "  </tbody>\n",
              "</table>\n",
              "</div>"
            ],
            "text/plain": [
              "   0  1  ...         4                                                  5\n",
              "0  4  3  ...    tpryan  @stellargirl I loooooooovvvvvveee my Kindle2. ...\n",
              "1  4  4  ...    vcu451  Reading my kindle2...  Love it... Lee childs i...\n",
              "2  4  5  ...    chadfu  Ok, first assesment of the #kindle2 ...it fuck...\n",
              "3  4  6  ...     SIX15  @kenburbary You'll love your Kindle2. I've had...\n",
              "4  4  7  ...  yamarama  @mikefish  Fair enough. But i have the Kindle2...\n",
              "\n",
              "[5 rows x 6 columns]"
            ]
          },
          "metadata": {
            "tags": []
          },
          "execution_count": 67
        }
      ]
    },
    {
      "cell_type": "code",
      "metadata": {
        "id": "Q_ss0zYHXBS3",
        "colab_type": "code",
        "outputId": "3a511240-030b-457d-9f10-88caaca22483",
        "colab": {
          "base_uri": "https://localhost:8080/",
          "height": 286
        }
      },
      "source": [
        "print(\"Number of null elements in train set: \\n{}\".format(train_data.isna().sum()))\n",
        "print(\"Number of null elements in test set: \\n{}\".format(test_data.isna().sum()))"
      ],
      "execution_count": 0,
      "outputs": [
        {
          "output_type": "stream",
          "text": [
            "Number of null elements in train set: \n",
            "0    0\n",
            "1    0\n",
            "2    0\n",
            "3    0\n",
            "4    0\n",
            "5    0\n",
            "dtype: int64\n",
            "Number of null elements in test set: \n",
            "0    0\n",
            "1    0\n",
            "2    0\n",
            "3    0\n",
            "4    0\n",
            "5    0\n",
            "dtype: int64\n"
          ],
          "name": "stdout"
        }
      ]
    },
    {
      "cell_type": "code",
      "metadata": {
        "id": "1p3YHM1IVwvw",
        "colab_type": "code",
        "outputId": "9493c40a-4c46-454d-89f9-441de70775bc",
        "colab": {
          "base_uri": "https://localhost:8080/",
          "height": 265
        }
      },
      "source": [
        "_ = plt.hist(train_data.loc[:, 0])"
      ],
      "execution_count": 0,
      "outputs": [
        {
          "output_type": "display_data",
          "data": {
            "image/png": "[encoded data removed]",
            "text/plain": [
              "<Figure size 432x288 with 1 Axes>"
            ]
          },
          "metadata": {
            "tags": [],
            "needs_background": "light"
          }
        }
      ]
    },
    {
      "cell_type": "code",
      "metadata": {
        "id": "nYtYuacYWv_R",
        "colab_type": "code",
        "outputId": "6d0aa3a8-5cc0-4e72-b8c7-593585a88795",
        "colab": {
          "base_uri": "https://localhost:8080/",
          "height": 265
        }
      },
      "source": [
        "train_text_len = [len(row[5]) for _, row in train_data.iterrows()]\n",
        "_ = plt.hist(train_text_len)"
      ],
      "execution_count": 0,
      "outputs": [
        {
          "output_type": "display_data",
          "data": {
            "image/png": "[encoded data removed]",
            "text/plain": [
              "<Figure size 432x288 with 1 Axes>"
            ]
          },
          "metadata": {
            "tags": [],
            "needs_background": "light"
          }
        }
      ]
    },
    {
      "cell_type": "markdown",
      "metadata": {
        "id": "WAc4gXwA91us",
        "colab_type": "text"
      },
      "source": [
        "## Cleaning"
      ]
    },
    {
      "cell_type": "markdown",
      "metadata": {
        "id": "Fal2g6tr-gKP",
        "colab_type": "text"
      },
      "source": [
        "Drop unnecessary columns "
      ]
    },
    {
      "cell_type": "code",
      "metadata": {
        "id": "kHwnE_UC4bJR",
        "colab_type": "code",
        "colab": {}
      },
      "source": [
        "train_data.drop([1, 2, 3, 4], axis=1, inplace=True)\n",
        "test_data.drop([1, 2, 3, 4], axis=1, inplace=True)"
      ],
      "execution_count": 0,
      "outputs": []
    },
    {
      "cell_type": "markdown",
      "metadata": {
        "id": "k9Iw1vaqBKhW",
        "colab_type": "text"
      },
      "source": [
        "Rename remaining columns"
      ]
    },
    {
      "cell_type": "code",
      "metadata": {
        "id": "HnSPcKyCBJoQ",
        "colab_type": "code",
        "colab": {}
      },
      "source": [
        "train_data.columns = [\"label\", \"text\"]\n",
        "test_data.columns = [\"label\", \"text\"]"
      ],
      "execution_count": 0,
      "outputs": []
    },
    {
      "cell_type": "markdown",
      "metadata": {
        "id": "f3AHhapmEjrk",
        "colab_type": "text"
      },
      "source": [
        "Cleaning tweets by removing url links, tags ..."
      ]
    },
    {
      "cell_type": "code",
      "metadata": {
        "id": "OM4OClj3Bpqb",
        "colab_type": "code",
        "colab": {}
      },
      "source": [
        "def clean_tweet(tweet):\n",
        "    tweet = BeautifulSoup(tweet, \"lxml\").get_text()\n",
        "    # Removing the @\n",
        "    tweet = re.sub(r\"@[A-Za-z0-9]+\", ' ', tweet)\n",
        "    # Removing the URL links\n",
        "    tweet = re.sub(r\"https?://[A-Za-z0-9./]+\", ' ', tweet)\n",
        "    # Keeping only letters\n",
        "    tweet = re.sub(r\"[^a-zA-Z.!?']\", ' ', tweet)\n",
        "    # Removing additional whitespaces\n",
        "    tweet = re.sub(r\" +\", ' ', tweet)\n",
        "    return tweet"
      ],
      "execution_count": 0,
      "outputs": []
    },
    {
      "cell_type": "code",
      "metadata": {
        "id": "mBqbLD22ENlf",
        "colab_type": "code",
        "colab": {}
      },
      "source": [
        "train_data.text = train_data.text.map(lambda x: clean_tweet(x))\n",
        "test_data.text = test_data.text.map(lambda x: clean_tweet(x))"
      ],
      "execution_count": 0,
      "outputs": []
    },
    {
      "cell_type": "code",
      "metadata": {
        "id": "0MVhtUX0FMU4",
        "colab_type": "code",
        "outputId": "4f7f1e15-46fb-4ade-e901-1fa60a6b3ee3",
        "colab": {
          "base_uri": "https://localhost:8080/",
          "height": 34
        }
      },
      "source": [
        "set(train_data.label)"
      ],
      "execution_count": 0,
      "outputs": [
        {
          "output_type": "execute_result",
          "data": {
            "text/plain": [
              "{0, 4}"
            ]
          },
          "metadata": {
            "tags": []
          },
          "execution_count": 27
        }
      ]
    },
    {
      "cell_type": "markdown",
      "metadata": {
        "id": "QyH-j_PPE7BS",
        "colab_type": "text"
      },
      "source": [
        "The dataset use 4 for positive tweets. Let's convert it into 1."
      ]
    },
    {
      "cell_type": "code",
      "metadata": {
        "id": "YGTWJdX_EueK",
        "colab_type": "code",
        "colab": {}
      },
      "source": [
        "train_data.label = train_data.label.map(lambda x: 1 if x==4 else x)"
      ],
      "execution_count": 0,
      "outputs": []
    },
    {
      "cell_type": "markdown",
      "metadata": {
        "id": "iEgpj_GgFTZ_",
        "colab_type": "text"
      },
      "source": [
        "Since the cleaning process takes a lot of time, I'm going to save the cleaned data into .csv files."
      ]
    },
    {
      "cell_type": "code",
      "metadata": {
        "id": "u7nOLY_KEY1Q",
        "colab_type": "code",
        "colab": {}
      },
      "source": [
        "train_data.to_csv(\"train_tweets_cleaned.csv\", index=False)\n",
        "test_data.to_csv(\"test_tweets_cleaned.csv\", index=False)"
      ],
      "execution_count": 0,
      "outputs": []
    },
    {
      "cell_type": "code",
      "metadata": {
        "id": "in1PqkNIqz1P",
        "colab_type": "code",
        "colab": {}
      },
      "source": [
        "train_data = pd.read_csv(PATH + \"train_tweets_cleaned.csv\")\n",
        "test_data = pd.read_csv(PATH + \"test_tweets_cleaned.csv\")"
      ],
      "execution_count": 0,
      "outputs": []
    },
    {
      "cell_type": "markdown",
      "metadata": {
        "id": "5c23nNWyS_S1",
        "colab_type": "text"
      },
      "source": [
        "## Tokenization"
      ]
    },
    {
      "cell_type": "code",
      "metadata": {
        "id": "Yv4pCi5fSz_6",
        "colab_type": "code",
        "colab": {}
      },
      "source": [
        "tokenizer = tfds.features.text.SubwordTextEncoder.build_from_corpus(\n",
        "    train_data.text, target_vocab_size=2**16)"
      ],
      "execution_count": 0,
      "outputs": []
    },
    {
      "cell_type": "code",
      "metadata": {
        "id": "l1ud-ltCTtcA",
        "colab_type": "code",
        "colab": {}
      },
      "source": [
        "train_inputs = [tokenizer.encode(sentence) for sentence in train_data.text]\n",
        "test_inputs = [tokenizer.encode(sentence) for sentence in test_data.text]"
      ],
      "execution_count": 0,
      "outputs": []
    },
    {
      "cell_type": "markdown",
      "metadata": {
        "id": "848Pu3CgXc3z",
        "colab_type": "text"
      },
      "source": [
        "And again, for reproducibility reasons, I'm pickeling the inputs"
      ]
    },
    {
      "cell_type": "code",
      "metadata": {
        "id": "UI0dwc-_TyqX",
        "colab_type": "code",
        "colab": {}
      },
      "source": [
        "MAX_LEN = max([len(sentence) for sentence in train_inputs])\n",
        "train_inputs = tf.keras.preprocessing.sequence.pad_sequences(\n",
        "    train_inputs, value=0, padding=\"post\", maxlen=MAX_LEN)\n",
        "test_inputs = tf.keras.preprocessing.sequence.pad_sequences(\n",
        "    test_inputs, value=0, padding=\"post\", maxlen=MAX_LEN)"
      ],
      "execution_count": 0,
      "outputs": []
    },
    {
      "cell_type": "markdown",
      "metadata": {
        "id": "1WCDxwQOT4l7",
        "colab_type": "text"
      },
      "source": [
        "Now that the text is tokenized and padded, we need to pad it by adding zeros to the end of all sentences so that we have equal sized elements for training."
      ]
    },
    {
      "cell_type": "code",
      "metadata": {
        "id": "u25V1HmpbJDR",
        "colab_type": "code",
        "colab": {}
      },
      "source": [
        "with open('train_inputs', 'wb') as fh:\n",
        "   pickle.dump(train_inputs, fh)\n",
        "with open('test_inputs', 'wb') as fh:\n",
        "   pickle.dump(test_inputs, fh)"
      ],
      "execution_count": 0,
      "outputs": []
    },
    {
      "cell_type": "markdown",
      "metadata": {
        "id": "bYRABfMTiSf-",
        "colab_type": "text"
      },
      "source": [
        "## Spliting data"
      ]
    },
    {
      "cell_type": "code",
      "metadata": {
        "id": "MlmGM8VVfdpY",
        "colab_type": "code",
        "colab": {}
      },
      "source": [
        "X_train, X_test, y_train, y_test = train_test_split(train_inputs, train_data.label, test_size=0.5, random_state=seed)"
      ],
      "execution_count": 0,
      "outputs": []
    },
    {
      "cell_type": "markdown",
      "metadata": {
        "id": "uUM0rQMpjkt2",
        "colab_type": "text"
      },
      "source": [
        "# Model building"
      ]
    },
    {
      "cell_type": "code",
      "metadata": {
        "id": "vYL3if7ijlwl",
        "colab_type": "code",
        "colab": {}
      },
      "source": [
        "class DCNN(tf.keras.Model):\n",
        "    \n",
        "    def __init__(self,\n",
        "                 vocab_size,  #Size of the vocabulary used. Will be given by the tokenizer\n",
        "                 emb_dim=128,  #128 is just an intuitive default value, it's used so ofter for embedding \n",
        "                 nb_filters=50,  #Number of times we want to apply each filter\n",
        "                 FFN_units=512,  #Number of units of the feedforward neural network at the end\n",
        "                 nb_classes=2,  #Binary classification as default\n",
        "                 dropout_rate=0.1,  #To turn off certain units/parameters to avoid overfitting\n",
        "                 training=False,  #True if the network is in evaluation phase. Drop out will be applied only in training\n",
        "                 name=\"dcnn\"):  #A name for the network\n",
        "        super(DCNN, self).__init__(name=name)\n",
        "\n",
        "        self.embedding = layers.Embedding(vocab_size,\n",
        "                                          emb_dim)\n",
        "        self.bigram = layers.Conv1D(filters=nb_filters,\n",
        "                                    kernel_size=2,\n",
        "                                    padding=\"valid\",  #To add the zeros we need to performe the last convolutions\n",
        "                                    activation=\"relu\")\n",
        "        self.trigram = layers.Conv1D(filters=nb_filters,\n",
        "                                    kernel_size=3,\n",
        "                                    padding=\"valid\",  #To add the zeros we need to performe the last convolutions\n",
        "                                    activation=\"relu\")\n",
        "        self.fourgram = layers.Conv1D(filters=nb_filters,\n",
        "                                    kernel_size=4,\n",
        "                                    padding=\"valid\",  #To add the zeros we need to performe the last convolutions\n",
        "                                    activation=\"relu\")\n",
        "        self.pool = layers.GlobalMaxPool1D()  #We'll be using this layer for all pooling steps\n",
        "        self.dense_1 = layers.Dense(units=FFN_units, activation=\"relu\")\n",
        "        self.dropout = layers.Dropout(rate=dropout_rate)  #This is a good place to define dropout since dense_1 with create a lot of params\n",
        "        if nb_classes == 2:  #Easy way to handle multiclasses\n",
        "            self.last_dense = layers.Dense(units=1,\n",
        "                                           activation=\"sigmoid\")\n",
        "        else:\n",
        "            self.last_dense = layers.Dense(units=nb_classes,\n",
        "                                           activation=\"softmax\")\n",
        "    \n",
        "    def call(self, inputs, training):\n",
        "        x = self.embedding(inputs)\n",
        "        x_1 = self.bigram(x)\n",
        "        x_1 = self.pool(x_1)\n",
        "        x_2 = self.trigram(x)\n",
        "        x_2 = self.pool(x_2)\n",
        "        x_3 = self.fourgram(x)\n",
        "        x_3 = self.pool(x_3)\n",
        "\n",
        "        merged = tf.concat([x_1, x_2, x_3], axis=-1)  #(batch_size, 3 * nb_filters) 3 because we have 3 types of filters\n",
        "        merged = self.dense_1(merged)  #Staring the feedforward process\n",
        "        merged = self.dropout(merged, training)  #Applying dropout if training=True\n",
        "        output = self.last_dense(merged)  \n",
        "        \n",
        "        return output"
      ],
      "execution_count": 0,
      "outputs": []
    },
    {
      "cell_type": "markdown",
      "metadata": {
        "id": "p3dD9ehpv3Oa",
        "colab_type": "text"
      },
      "source": [
        "# Training"
      ]
    },
    {
      "cell_type": "markdown",
      "metadata": {
        "id": "hUBfI1egwY6l",
        "colab_type": "text"
      },
      "source": [
        "## Configuration"
      ]
    },
    {
      "cell_type": "code",
      "metadata": {
        "id": "rXVKta90v4f5",
        "colab_type": "code",
        "colab": {}
      },
      "source": [
        "VOCAB_SIZE = tokenizer.vocab_size\n",
        "\n",
        "#These are basicaly hyperparameters\n",
        "EMB_DIM = 200\n",
        "NB_FILTERS = 100\n",
        "FFN_UNITS = 256\n",
        "NB_CLASSES = len(set(train_data.label))\n",
        "\n",
        "DROPOUT_RATE = 0.2\n",
        "\n",
        "BATCH_SIZE = 16\n",
        "NB_EPOCHS = 2"
      ],
      "execution_count": 0,
      "outputs": []
    },
    {
      "cell_type": "markdown",
      "metadata": {
        "id": "dSlFapVtw8II",
        "colab_type": "text"
      },
      "source": [
        "## Training"
      ]
    },
    {
      "cell_type": "code",
      "metadata": {
        "id": "E1KirMNZw6cA",
        "colab_type": "code",
        "colab": {}
      },
      "source": [
        "dcnn = DCNN(vocab_size=VOCAB_SIZE,\n",
        "            emb_dim=EMB_DIM,\n",
        "            nb_filters=NB_FILTERS,\n",
        "            FFN_units=FFN_UNITS,\n",
        "            nb_classes=NB_CLASSES,\n",
        "            dropout_rate=DROPOUT_RATE)"
      ],
      "execution_count": 0,
      "outputs": []
    },
    {
      "cell_type": "markdown",
      "metadata": {
        "id": "d9GaG2fjxzo6",
        "colab_type": "text"
      },
      "source": [
        "I want this notebook to handle binary and multiclass classifications tasks"
      ]
    },
    {
      "cell_type": "code",
      "metadata": {
        "id": "ZGqA-ZuNxFNv",
        "colab_type": "code",
        "colab": {}
      },
      "source": [
        "if NB_CLASSES == 2:\n",
        "    dcnn.compile(loss=\"binary_crossentropy\",  #Standard loss when doing a binary classification\n",
        "                 optimizer=\"adam\",\n",
        "                 metrics=[\"accuracy\"])\n",
        "else:\n",
        "    dcnn.compile(loss=\"sparse_categorical_crossentropy\",  #Standard loss when doing a multiclass classification\n",
        "                 optimizer=\"adam\",\n",
        "                 metrics=[\"sparse_categorical_accuracy\"])"
      ],
      "execution_count": 0,
      "outputs": []
    },
    {
      "cell_type": "markdown",
      "metadata": {
        "id": "vV_mZNgAykyP",
        "colab_type": "text"
      },
      "source": [
        "And again, to use the model later I'm going to make a checkpoint "
      ]
    },
    {
      "cell_type": "code",
      "metadata": {
        "id": "UznEC2iExOz8",
        "colab_type": "code",
        "colab": {}
      },
      "source": [
        "checkpoint_path = PATH + \"checkpoints/\"\n",
        "ckpt = tf.train.Checkpoint(Dcnn=dcnn)\n",
        "ckpt_manager = tf.train.CheckpointManager(ckpt, checkpoint_path, max_to_keep=5)  #Keeping the last 5 checkpoints\n",
        "\n",
        "if ckpt_manager.latest_checkpoint:\n",
        "    ckpt.restore(ckpt_manager.latest_checkpoint)\n",
        "    print(\"Latest checkpoint restored!!\")"
      ],
      "execution_count": 0,
      "outputs": []
    },
    {
      "cell_type": "code",
      "metadata": {
        "id": "tzecCHdFy1Ud",
        "colab_type": "code",
        "colab": {
          "base_uri": "https://localhost:8080/",
          "height": 101
        },
        "outputId": "e4e6f497-449e-4aa3-eedc-1ea46fb7523e"
      },
      "source": [
        "dcnn.fit(X_train, \n",
        "         y_train,\n",
        "         batch_size=BATCH_SIZE,\n",
        "         epochs=NB_EPOCHS)\n",
        "\n",
        "ckpt_manager.save()"
      ],
      "execution_count": 23,
      "outputs": [
        {
          "output_type": "stream",
          "text": [
            "Epoch 1/2\n",
            "50000/50000 [==============================] - 3964s 79ms/step - loss: 0.3904 - accuracy: 0.8267\n",
            "Epoch 2/2\n",
            "50000/50000 [==============================] - 3975s 79ms/step - loss: 0.3243 - accuracy: 0.8628\n"
          ],
          "name": "stdout"
        },
        {
          "output_type": "execute_result",
          "data": {
            "text/plain": [
              "'/content/drive/My Drive/CNN for NLP datasets/checkpoints/ckpt-1'"
            ]
          },
          "metadata": {
            "tags": []
          },
          "execution_count": 23
        }
      ]
    },
    {
      "cell_type": "markdown",
      "metadata": {
        "id": "nJOJgfUKAEl8",
        "colab_type": "text"
      },
      "source": [
        "# Evaluation"
      ]
    },
    {
      "cell_type": "code",
      "metadata": {
        "id": "6cfpjHJt0Bqo",
        "colab_type": "code",
        "colab": {
          "base_uri": "https://localhost:8080/",
          "height": 50
        },
        "outputId": "73d6ccdd-b5be-4de8-a2b9-3e293dd811b7"
      },
      "source": [
        "results = dcnn.evaluate(X_test, y_test, batch_size=BATCH_SIZE)\n",
        "print(results)"
      ],
      "execution_count": 25,
      "outputs": [
        {
          "output_type": "stream",
          "text": [
            "50000/50000 [==============================] - 126s 3ms/step - loss: 0.4445 - accuracy: 0.8232\n",
            "[0.44448214769363403, 0.8231599926948547]\n"
          ],
          "name": "stdout"
        }
      ]
    },
    {
      "cell_type": "code",
      "metadata": {
        "id": "xhhRjJFEAPAH",
        "colab_type": "code",
        "colab": {
          "base_uri": "https://localhost:8080/",
          "height": 34
        },
        "outputId": "f90a7f68-bd54-47a4-e504-08a424c718c9"
      },
      "source": [
        "dcnn(np.array([tokenizer.encode(\"This notebook is awesome\")]), training=False).numpy()"
      ],
      "execution_count": 26,
      "outputs": [
        {
          "output_type": "execute_result",
          "data": {
            "text/plain": [
              "array([[0.8554794]], dtype=float32)"
            ]
          },
          "metadata": {
            "tags": []
          },
          "execution_count": 26
        }
      ]
    },
    {
      "cell_type": "code",
      "metadata": {
        "id": "cnRC94QKairj",
        "colab_type": "code",
        "colab": {}
      },
      "source": [
        ""
      ],
      "execution_count": 0,
      "outputs": []
    }
  ]
}